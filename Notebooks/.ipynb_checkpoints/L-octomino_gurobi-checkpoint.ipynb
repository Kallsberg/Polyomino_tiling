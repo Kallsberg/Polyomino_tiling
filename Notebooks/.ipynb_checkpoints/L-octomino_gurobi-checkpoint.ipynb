{
 "cells": [
  {
   "cell_type": "code",
   "execution_count": 1,
   "metadata": {},
   "outputs": [],
   "source": [
    "import numpy    as np\n",
    "import gurobipy as gp\n",
    "\n",
    "from gurobipy          import GRB\n",
    "from Polyomino         import Constraints,Variants,PlotSol,Solution\n",
    "from matplotlib.pyplot import figure"
   ]
  },
  {
   "cell_type": "markdown",
   "metadata": {},
   "source": [
    "### Contruction of rectangle and fixed polyominoes"
   ]
  },
  {
   "cell_type": "code",
   "execution_count": 2,
   "metadata": {},
   "outputs": [],
   "source": [
    "# Generating rectangle\n",
    "M,N = 20,16\n",
    "\n",
    "R = np.ones((M,N))\n",
    "\n",
    "# Defining the fixed polyomin0\n",
    "p = [ np.array( [ [1,0,0] ,\n",
    "                  [1,0,0] ,\n",
    "                  [1,1,1] ,\n",
    "                  [1,1,1] ] ) ] # L-octomino\n",
    "\n",
    "\n",
    "polyominos, NUM = Variants( p )"
   ]
  },
  {
   "cell_type": "markdown",
   "metadata": {},
   "source": [
    "### Modelling the problem"
   ]
  },
  {
   "cell_type": "code",
   "execution_count": 3,
   "metadata": {},
   "outputs": [
    {
     "name": "stdout",
     "output_type": "stream",
     "text": [
      "Using license file /Users/einarkallsberg/gurobi.lic\n",
      "Academic license - for non-commercial use only\n",
      "\n"
     ]
    }
   ],
   "source": [
    "# Create a new model\n",
    "m = gp.Model(\"Polyomino\")\n",
    "\n",
    "# Build (sparse) constraint matrix\n",
    "\n",
    "# A = sp.csr_matrix((data, (row, col)), shape=(2, 3))\n",
    "A, var, var_k = Constraints(R, polyominos)\n",
    "\n",
    "# Create variables\n",
    "x = m.addMVar(shape = var, vtype = GRB.BINARY, name = \"x\")\n",
    "\n",
    "# Set objective\n",
    "obj = sum(sum(sum(p)))*np.ones(var)\n",
    "\n",
    "m.setObjective(obj @ x, GRB.MAXIMIZE)\n",
    "\n",
    "# Build rhs \n",
    "rhs = np.ones(M*N)\n",
    "\n",
    "# Add constraints\n",
    "m.addConstr(A @ x <= rhs, name = \"c\")\n",
    "\n",
    "print()"
   ]
  },
  {
   "cell_type": "markdown",
   "metadata": {},
   "source": [
    "### Solving the optimization problem"
   ]
  },
  {
   "cell_type": "code",
   "execution_count": 4,
   "metadata": {},
   "outputs": [
    {
     "name": "stdout",
     "output_type": "stream",
     "text": [
      "Gurobi Optimizer version 9.0.1 build v9.0.1rc0 (mac64)\n",
      "Optimize a model with 320 rows, 1888 columns and 15104 nonzeros\n",
      "Model fingerprint: 0x0aaaf2a8\n",
      "Variable types: 0 continuous, 1888 integer (1888 binary)\n",
      "Coefficient statistics:\n",
      "  Matrix range     [1e+00, 1e+00]\n",
      "  Objective range  [8e+00, 8e+00]\n",
      "  Bounds range     [1e+00, 1e+00]\n",
      "  RHS range        [1e+00, 1e+00]\n",
      "Found heuristic solution: objective 240.0000000\n",
      "Presolve removed 0 rows and 48 columns\n",
      "Presolve time: 0.04s\n",
      "Presolved: 320 rows, 1840 columns, 14816 nonzeros\n",
      "Variable types: 0 continuous, 1840 integer (1840 binary)\n",
      "\n",
      "Root relaxation: objective 3.200000e+02, 3135 iterations, 0.26 seconds\n",
      "\n",
      "    Nodes    |    Current Node    |     Objective Bounds      |     Work\n",
      " Expl Unexpl |  Obj  Depth IntInf | Incumbent    BestBd   Gap | It/Node Time\n",
      "\n",
      "     0     0  320.00000    0   35  240.00000  320.00000  33.3%     -    0s\n",
      "H    0     0                     288.0000000  320.00000  11.1%     -    0s\n",
      "H    0     0                     304.0000000  320.00000  5.26%     -    0s\n",
      "H    0     0                     312.0000000  320.00000  2.56%     -    0s\n",
      "     0     0  320.00000    0  204  312.00000  320.00000  2.56%     -    1s\n",
      "     0     0  320.00000    0   16  312.00000  320.00000  2.56%     -    2s\n",
      "     0     0  320.00000    0   14  312.00000  320.00000  2.56%     -    2s\n",
      "*    0     0               0     320.0000000  320.00000  0.00%     -    2s\n",
      "\n",
      "Cutting planes:\n",
      "  Clique: 34\n",
      "  Zero half: 9\n",
      "\n",
      "Explored 1 nodes (17089 simplex iterations) in 2.53 seconds\n",
      "Thread count was 8 (of 8 available processors)\n",
      "\n",
      "Solution count 5: 320 312 304 ... 240\n",
      "\n",
      "Optimal solution found (tolerance 1.00e-04)\n",
      "Best objective 3.200000000000e+02, best bound 3.200000000000e+02, gap 0.0000%\n",
      "[-0. -0.  0. ...  0. -0. -0.]\n",
      "Obj: 320\n"
     ]
    }
   ],
   "source": [
    "# Optimize model\n",
    "m.optimize()\n",
    "\n",
    "print(x.X)\n",
    "print('Obj: %g' % m.objVal)\n",
    "\n",
    "\n"
   ]
  },
  {
   "cell_type": "markdown",
   "metadata": {},
   "source": [
    "### Printing the solution"
   ]
  },
  {
   "cell_type": "code",
   "execution_count": 5,
   "metadata": {},
   "outputs": [
    {
     "data": {
      "image/png": "[encoded data removed]",
      "text/plain": [
       "<Figure size 1080x1080 with 2 Axes>"
      ]
     },
     "metadata": {},
     "output_type": "display_data"
    }
   ],
   "source": [
    "# Generating solution matrix\n",
    "A_sol = Solution( x.X , R , polyominos )\n",
    "\n",
    "# Plotting solution\n",
    "\n",
    "PlotSol( A_sol, polyominos, m.objVal)"
   ]
  }
 ],
 "metadata": {
  "kernelspec": {
   "display_name": "Python 3",
   "language": "python",
   "name": "python3"
  },
  "language_info": {
   "codemirror_mode": {
    "name": "ipython",
    "version": 3
   },
   "file_extension": ".py",
   "mimetype": "text/x-python",
   "name": "python",
   "nbconvert_exporter": "python",
   "pygments_lexer": "ipython3",
   "version": "3.7.6"
  }
 },
 "nbformat": 4,
 "nbformat_minor": 2
}
